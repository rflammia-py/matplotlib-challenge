{
 "cells": [
  {
   "cell_type": "markdown",
   "metadata": {},
   "source": [
    "With a correlation coefficient of 0.84, the correlation between mouse weight and tumor volume is very strong and positive. So tumor volume increases as mouse weight increases.\n",
    "\n",
    "The Capomulin treatment saw the smallest volume in final tumor volumes. And when studying a particular mouse treated with Capomulin, the tumor volume shrunk tremendously over time. \n",
    "\n",
    "Capomulin had the most subjects per treatment. With230 mice, while the smallest sample was Zoniferol with 182 mice. The conclusions made on Capomulin are strong since it has a robust sample size, especially after I removed duplicates. \n"
   ]
  },
  {
   "cell_type": "markdown",
   "metadata": {},
   "source": [
    "## Observations and Insights "
   ]
  },
  {
   "cell_type": "code",
   "execution_count": null,
   "metadata": {},
   "outputs": [],
   "source": [
    "# Dependencies and Setup\n",
    "import matplotlib.pyplot as plt\n",
    "import pandas as pd\n",
    "import scipy.stats as st\n",
    "from scipy.stats import linregress\n",
    "import numpy as np\n",
    "\n",
    "# Study data files\n",
    "mouse_metadata_path = \"/Users/ryan/Desktop/bootcamp/homework/hw5_matplotlib/matplotlib-challenge/Pymaceuticals/data/Mouse_metadata.csv\"\n",
    "study_results_path = \"/Users/ryan/Desktop/bootcamp/homework/hw5_matplotlib/matplotlib-challenge/Pymaceuticals/data/Study_results.csv\"\n",
    "\n",
    "# Read the mouse data and the study results\n",
    "mouse_metadata = pd.read_csv(mouse_metadata_path)\n",
    "study_results = pd.read_csv(study_results_path)\n",
    "\n",
    "# Combine the data into a single dataset\n",
    "combined_df = pd.merge(mouse_metadata, study_results, how=\"inner\", on=\"Mouse ID\")\n",
    "combined_df\n",
    "# Display the data table for preview\n"
   ]
  },
  {
   "cell_type": "code",
   "execution_count": null,
   "metadata": {},
   "outputs": [],
   "source": [
    "# Checking the number of mice.\n",
    "mouse_count = combined_df[\"Mouse ID\"].nunique()\n",
    "mouse_count"
   ]
  },
  {
   "cell_type": "code",
   "execution_count": null,
   "metadata": {},
   "outputs": [],
   "source": [
    "# Getting the duplicate mice by ID number that shows up for Mouse ID and Timepoint. \n",
    "duplicate_rows = combined_df.loc[combined_df.duplicated(subset=['Mouse ID', 'Timepoint']), 'Mouse ID'].unique()\n",
    "duplicate_rows\n"
   ]
  },
  {
   "cell_type": "code",
   "execution_count": null,
   "metadata": {},
   "outputs": [],
   "source": [
    "# Optional: Get all the data for the duplicate mouse ID. \n",
    "all_duplicate_id = pd.DataFrame(duplicate_rows)\n",
    "all_duplicate_id"
   ]
  },
  {
   "cell_type": "code",
   "execution_count": null,
   "metadata": {},
   "outputs": [],
   "source": [
    "# Create a clean DataFrame by dropping the duplicate mouse by its ID.\n",
    "clean_df = combined_df[combined_df[\"Mouse ID\"].isin(duplicate_rows)==False]\n",
    "clean_df"
   ]
  },
  {
   "cell_type": "code",
   "execution_count": null,
   "metadata": {},
   "outputs": [],
   "source": [
    "# Checking the number of mice in the clean DataFrame.\n",
    "clean_mice = clean_df[\"Mouse ID\"].value_counts()\n",
    "clean_mice_count = len(clean_mice)\n",
    "clean_mice_count"
   ]
  },
  {
   "cell_type": "markdown",
   "metadata": {},
   "source": [
    "## Summary Statistics"
   ]
  },
  {
   "cell_type": "code",
   "execution_count": null,
   "metadata": {},
   "outputs": [],
   "source": [
    "# Generate a summary statistics table of mean, median, variance, standard deviation, and SEM of the tumor volume for each regimen\n",
    "\n",
    "# Use groupby and summary statistical methods to calculate the following properties of each drug regimen: \n",
    "# mean, median, variance, standard deviation, and SEM of the tumor volume. \n",
    "# Assemble the resulting series into a single summary dataframe.\n",
    "\n",
    "summary_mean= clean_df.groupby(\"Drug Regimen\").mean()[\"Tumor Volume (mm3)\"]\n",
    "summary_median= clean_df.groupby(\"Drug Regimen\").median()[\"Tumor Volume (mm3)\"]\n",
    "summary_variance = clean_df.groupby(\"Drug Regimen\").var()[\"Tumor Volume (mm3)\"]\n",
    "summary_sd = clean_df.groupby(\"Drug Regimen\").std()[\"Tumor Volume (mm3)\"]\n",
    "summary_sem = clean_df.groupby(\"Drug Regimen\").sem()[\"Tumor Volume (mm3)\"]\n",
    "\n",
    "summary_statistics_df = pd.DataFrame({\"Mean Tumor Volume\":summary_mean, \"Median Tumor Volume\": summary_median, \"Tumor Volume Variance\": summary_variance, \"Tumor Volume Standard Deviation\": summary_sd, \"Tumor Volume SEM\": summary_sem })\n",
    "summary_statistics_df = summary_statistics_df[[\"Mean Tumor Volume\", \"Median Tumor Volume\", \"Tumor Volume Variance\", \"Tumor Volume Standard Deviation\", \"Tumor Volume SEM\"]]\n",
    "summary_statistics_df\n"
   ]
  },
  {
   "cell_type": "code",
   "execution_count": null,
   "metadata": {},
   "outputs": [],
   "source": [
    "# Generate a summary statistics table of mean, median, variance, standard deviation, and SEM of the tumor volume for each regimen\n",
    "# Using the aggregation method, produce the same summary statistics in a single line\n",
    "sing_groupby = clean_df.groupby(\"Drug Regimen\")\n",
    "sing_summary_statistics = sing_groupby.agg(['mean','median','var','std','sem'])[\"Tumor Volume (mm3)\"]\n",
    "sing_summary_statistics"
   ]
  },
  {
   "cell_type": "markdown",
   "metadata": {},
   "source": [
    "## Bar and Pie Charts"
   ]
  },
  {
   "cell_type": "code",
   "execution_count": null,
   "metadata": {},
   "outputs": [],
   "source": [
    "# Generate a bar plot showing the total number of timepoints for all mice tested for each drug regimen using Pandas.\n",
    "timepoints_per_regimen = combined_df.groupby([\"Drug Regimen\"]).count()[\"Timepoint\"].sort_values(ascending=[False])\n",
    "\n",
    "timepoints_per_regimen_chart = timepoints_per_regimen.plot(kind=\"bar\")\n",
    "plt.ylabel(\"Number of Mice\")\n",
    "plt.show()"
   ]
  },
  {
   "cell_type": "code",
   "execution_count": null,
   "metadata": {},
   "outputs": [],
   "source": [
    "mice_regimen = combined_df.groupby([\"Drug Regimen\"])[\"Timepoint\"].count().tolist()\n",
    "mice_regimen"
   ]
  },
  {
   "cell_type": "code",
   "execution_count": null,
   "metadata": {},
   "outputs": [],
   "source": [
    "# Generate a bar plot showing the total number of timepoints for all mice tested for each drug regimen using pyplot.\n",
    "#mice_regimen = combined_df.groupby([\"Drug Regimen\"]).count()[\"Timepoint\"].sort_values(ascending=[False])\n",
    "mice_regimen = combined_df.groupby([\"Drug Regimen\"])[\"Timepoint\"].count().tolist()\n",
    "x_axis = np.arange(len(timepoints_per_regimen))\n",
    "\n",
    "plt.bar(x_axis, timepoints_per_regimen)\n",
    "tick_loc = [value for value in x_axis]\n",
    "plt.xticks(tick_loc, ['Capomulin', 'Ceftamin', 'Infubinol', 'Ketapril', 'Naftisol', 'Placebo', 'Propriva', 'Ramicane', 'Stelasyn', 'Zoniferol'],  rotation='vertical')\n",
    "plt.title(\"Number of Mice per Treatment\")\n",
    "plt.xlabel(\"Drug Regimen\")\n",
    "plt.ylabel(\"Number of Mice\")\n",
    "\n",
    "plt.show()\n"
   ]
  },
  {
   "cell_type": "code",
   "execution_count": null,
   "metadata": {},
   "outputs": [],
   "source": []
  },
  {
   "cell_type": "code",
   "execution_count": null,
   "metadata": {},
   "outputs": [],
   "source": [
    "# Generate a pie plot showing the distribution of female versus male mice using Pandas\n",
    "#  Group by gender and get the number to plot\n",
    "groupby_gender = combined_df.groupby([\"Mouse ID\",\"Sex\"])\n",
    "groupby_gender\n",
    "gender_df = pd.DataFrame(groupby_gender.size())\n",
    "\n",
    "# Create the dataframe with total count of Female and Male mice\n",
    "mouse_gender = pd.DataFrame(gender_df.groupby([\"Sex\"]).count())\n",
    "mouse_gender.columns = [\"Total Count\"]\n",
    "\n",
    "mouse_gender[\"Percentage of Sex\"] = (100*(mouse_gender[\"Total Count\"]/mouse_gender[\"Total Count\"].sum()))\n",
    "\n",
    "# format the \"Percentage of Sex\" column\n",
    "mouse_gender[\"Percentage of Sex\"] = mouse_gender[\"Percentage of Sex\"]\n",
    "\n",
    "# gender_df\n",
    "\n",
    "colors = ['orange', 'blue']\n",
    "\n",
    "plot = mouse_gender.plot.pie(y='Total Count',figsize=(15,10), colors = colors,  autopct=\"%1.1f%%\")\n",
    "\n",
    "plt.title('Male vs Female Mouse Population',fontsize = 20)\n",
    "plt.ylabel('Sex',fontsize = 14)\n",
    "plt.axis(\"equal\",fontsize = 14)\n",
    "plt.show()\n"
   ]
  },
  {
   "cell_type": "code",
   "execution_count": null,
   "metadata": {},
   "outputs": [],
   "source": [
    "# Generate a pie plot showing the distribution of female versus male mice using pyplot\n",
    "\n",
    "#  Group by gender and get the number to plot\n",
    "groupby_gender = combined_df.groupby([\"Mouse ID\",\"Sex\"])\n",
    "groupby_gender\n",
    "gender_df = pd.DataFrame(groupby_gender.size())\n",
    "\n",
    "# Create the dataframe with total count of Female and Male mice\n",
    "mouse_gender = pd.DataFrame(gender_df.groupby([\"Sex\"]).count())\n",
    "mouse_gender.columns = [\"Total Count\"]\n",
    "\n",
    "mouse_gender[\"Percentage of Sex\"] = (100*(mouse_gender[\"Total Count\"]/mouse_gender[\"Total Count\"].sum()))\n",
    "\n",
    "# format the \"Percentage of Sex\" column\n",
    "mouse_gender_dist = mouse_gender[\"Percentage of Sex\"]\n",
    "\n",
    "colors = ['orange', 'blue']\n",
    "plot2 = plt.pie(mouse_gender_dist, labels=['Male', 'Female'], colors=colors, autopct=\"%1.1f%%\")\n",
    "\n",
    "\n",
    "\n",
    "\n",
    "\n",
    "plt.title('Male vs Female Mouse Population',fontsize = 20)\n",
    "plt.ylabel('Sex',fontsize = 14)\n",
    "plt.axis(\"equal\",fontsize = 14)\n",
    "plt.show()\n"
   ]
  },
  {
   "cell_type": "markdown",
   "metadata": {},
   "source": [
    "## Quartiles, Outliers and Boxplots"
   ]
  },
  {
   "cell_type": "code",
   "execution_count": null,
   "metadata": {},
   "outputs": [],
   "source": [
    "# Calculate the final tumor volume of each mouse across four of the treatment regimens:  \n",
    "# Capomulin, Ramicane, Infubinol, and Ceftamin\n",
    "\n",
    "# Start by getting the last (greatest) timepoint for each mouse\n",
    "top_regimen = combined_df[combined_df[\"Drug Regimen\"].isin([\"Capomulin\", \"Ramicane\", \"Infubinol\", \"Ceftamin\"])]\n",
    "\n",
    "\n",
    "top_regimen = top_regimen.sort_values([\"Timepoint\"], ascending=True)\n",
    "top_regimen = top_regimen[[\"Drug Regimen\", \"Mouse ID\", \"Timepoint\", \"Tumor Volume (mm3)\"]]\n",
    "# Merge this group df with the original dataframe to get the tumor volume at the last timepoint\n",
    "top_regimen\n"
   ]
  },
  {
   "cell_type": "code",
   "execution_count": null,
   "metadata": {},
   "outputs": [],
   "source": [
    "# Put treatments into a list for for loop (and later for plot labels)\n",
    "final_v_df = combined_df[['Mouse ID','Drug Regimen','Weight (g)','Timepoint','Tumor Volume (mm3)']]\n",
    "\n",
    "sort_top_regimen = final_v_df.sort_values([\"Mouse ID\",\"Timepoint\"], ascending=False)\n",
    "\n",
    "\n",
    "no_duplicate = sort_top_regimen.drop_duplicates(subset=\"Mouse ID\")\n",
    "no_duplicate\n",
    "\n",
    "# Calculate the IQR and quantitatively determine if there are any potential outliers. "
   ]
  },
  {
   "cell_type": "code",
   "execution_count": null,
   "metadata": {},
   "outputs": [],
   "source": [
    "# Extract final tumor volumes for each mouse treated by Capomulin regimen:\n",
    "capomulin_final_vol=no_duplicate[no_duplicate['Drug Regimen'] == 'Capomulin']\n",
    "\n",
    "capomulin_volume = capomulin_final_vol[\"Tumor Volume (mm3)\"]\n",
    "capomulin_quartiles = capomulin_volume.quantile([.25,.5,.75])\n",
    "capomulin_lowerq = capomulin_quartiles[0.25]\n",
    "capomulin_upperq = capomulin_quartiles[0.75]\n",
    "capomulin_iqr = capomulin_upperq - capomulin_lowerq\n",
    "\n",
    "\n",
    "\n",
    "# Potential outliers calculation:\n",
    "capomulin_lower_bound = capomulin_lowerq - (1.5*capomulin_iqr)\n",
    "capomulin_upper_bound = capomulin_upperq + (1.5*capomulin_iqr)\n",
    "\n",
    "print(f\"Values below {round(capomulin_lower_bound,2)} could be outliers.\")\n",
    "print(f\"Values above {round(capomulin_upper_bound,2)} could be outliers.\")"
   ]
  },
  {
   "cell_type": "code",
   "execution_count": null,
   "metadata": {},
   "outputs": [],
   "source": [
    "# Extract final tumor volumes for each mouse treated by Capomulin regimen:\n",
    "ramicane_final_vol=no_duplicate[no_duplicate['Drug Regimen'] == 'Ramicane']\n",
    "ramicane_final_vol.sort_values(['Mouse ID']).head(10)\n",
    "\n",
    "ramicane_volume = ramicane_final_vol[\"Tumor Volume (mm3)\"]\n",
    "ramicane_quartiles = ramicane_volume.quantile([.25,.5,.75])\n",
    "ramicane_lowerq = ramicane_quartiles[0.25]\n",
    "ramicane_upperq = ramicane_quartiles[0.75]\n",
    "ramicane_iqr = ramicane_upperq - ramicane_lowerq\n",
    "\n",
    "\n",
    "\n",
    "# Potential outliers calculation:\n",
    "ramicane_lower_bound = ramicane_lowerq - (1.5*ramicane_iqr)\n",
    "ramicane_upper_bound = ramicane_upperq + (1.5*ramicane_iqr)\n",
    "\n",
    "print(f\"Values below {round(ramicane_lower_bound,2)} could be outliers.\")\n",
    "print(f\"Values above {round(ramicane_upper_bound,2)} could be outliers.\")"
   ]
  },
  {
   "cell_type": "code",
   "execution_count": null,
   "metadata": {},
   "outputs": [],
   "source": [
    "#Extract final tumor volumes for each mouse treated by Capomulin regimen:\n",
    "infubinol_final_vol=no_duplicate[no_duplicate['Drug Regimen'] == 'Infubinol']\n",
    "infubinol_final_vol.sort_values(['Mouse ID']).head(10)\n",
    "\n",
    "infubinol_volume = infubinol_final_vol[\"Tumor Volume (mm3)\"]\n",
    "infubinol_quartiles = infubinol_volume.quantile([.25,.5,.75])\n",
    "infubinol_lowerq = infubinol_quartiles[0.25]\n",
    "infubinol_upperq = infubinol_quartiles[0.75]\n",
    "infubinol_iqr = infubinol_upperq - infubinol_lowerq\n",
    "\n",
    "\n",
    "\n",
    "# Potential outliers calculation:\n",
    "infubinol_lower_bound = infubinol_lowerq - (1.5*infubinol_iqr)\n",
    "infubinol_upper_bound = infubinol_upperq + (1.5*infubinol_iqr)\n",
    "\n",
    "print(f\"Values below {round(infubinol_lower_bound,2)} could be outliers.\")\n",
    "print(f\"Values above {round(infubinol_upper_bound,2)} could be outliers.\")"
   ]
  },
  {
   "cell_type": "code",
   "execution_count": null,
   "metadata": {},
   "outputs": [],
   "source": [
    "#Extract final tumor volumes for each mouse treated by Capomulin regimen:\n",
    "ceftamin_final_vol=no_duplicate[no_duplicate['Drug Regimen'] == 'Ceftamin']\n",
    "ceftamin_final_vol.sort_values(['Mouse ID']).head(10)\n",
    "\n",
    "ceftamin_volume = ceftamin_final_vol[\"Tumor Volume (mm3)\"]\n",
    "ceftamin_quartiles = ceftamin_volume.quantile([.25,.5,.75])\n",
    "ceftamin_lowerq = ceftamin_quartiles[0.25]\n",
    "ceftamin_upperq = ceftamin_quartiles[0.75]\n",
    "ceftamin_iqr = ceftamin_upperq - ceftamin_lowerq\n",
    "\n",
    "\n",
    "\n",
    "# Potential outliers calculation:\n",
    "ceftamin_lower_bound = ceftamin_lowerq - (1.5*ceftamin_iqr)\n",
    "ceftamin_upper_bound = ceftamin_upperq + (1.5*ceftamin_iqr)\n",
    "\n",
    "print(f\"Values below {round(ceftamin_lower_bound,2)} could be outliers.\")\n",
    "print(f\"Values above {round(ceftamin_upper_bound,2)} could be outliers.\")"
   ]
  },
  {
   "cell_type": "code",
   "execution_count": null,
   "metadata": {},
   "outputs": [],
   "source": [
    "# Final tumor volumes data for 4 top treatments:\n",
    "capomulin_volume=capomulin_final_vol['Tumor Volume (mm3)']\n",
    "ramicane_volume=ramicane_final_vol['Tumor Volume (mm3)']\n",
    "infubinol_volume=infubinol_final_vol['Tumor Volume (mm3)']\n",
    "ceftamin_volume=ceftamin_final_vol['Tumor Volume (mm3)']\n",
    "\n",
    "# Combine final tumor volumes data for 4 top treatments into a list: \n",
    "final_volumes=[capomulin_volume, ramicane_volume, infubinol_volume, ceftamin_volume]\n",
    "\n",
    "# Outliers plot of the final tumor volumes:\n",
    "fig, ax=plt.subplots(1, figsize=(9, 6))\n",
    "box_plot=ax.boxplot(final_volumes, patch_artist=True)\n",
    "ax.set_title('Potential Outliers of The Final Tumor Volumes For Top Four Treatment Regimens', fontsize=17)\n",
    "ax.set_ylabel('Final Tumor Volume (mm3)', fontsize=12, color='black')\n",
    "ax.set_xticklabels(['Capomulin', 'Ramicane', 'Infubinol', 'Ceftamin'], fontsize=12, color='black')\n",
    "\n",
    "# Change fill color:\n",
    "for box in box_plot['boxes']:\n",
    "    box.set(facecolor='white')\n",
    "\n",
    "# Change color and linewidth of the medians:\n",
    "for median in box_plot['medians']:\n",
    "    median.set(color='firebrick', linewidth=3)\n",
    "\n",
    "# Change the fill and style of fliers:\n",
    "for flier in box_plot['fliers']:\n",
    "    flier.set(marker='o', markersize=15, markerfacecolor='crimson', alpha=1)\n",
    "\n",
    "plt.show()"
   ]
  },
  {
   "cell_type": "code",
   "execution_count": null,
   "metadata": {},
   "outputs": [],
   "source": []
  },
  {
   "cell_type": "markdown",
   "metadata": {},
   "source": [
    "## Line and Scatter Plots"
   ]
  },
  {
   "cell_type": "code",
   "execution_count": null,
   "metadata": {},
   "outputs": [],
   "source": [
    "# Generate a line plot of tumor volume vs. time point for a mouse treated with Capomulin\n",
    "\n",
    "\n",
    "target_mouse_sorted=sort_top_regimen.loc[sort_top_regimen['Mouse ID']=='l509',:]\n",
    "target_mouse=target_mouse_sorted.sort_values('Timepoint')\n",
    "#target_mouse\n",
    "\n",
    "# Redusing dataframe to columns 'Timepoint' and 'Tumor Volume (mm3)':\n",
    "target_mouse_plot=target_mouse[['Timepoint','Tumor Volume (mm3)']]\n",
    "#target_mouse_plot\n",
    "\n",
    "# Change index to timepoints:\n",
    "target_mouse_plot=target_mouse_plot.set_index('Timepoint')"
   ]
  },
  {
   "cell_type": "code",
   "execution_count": null,
   "metadata": {},
   "outputs": [],
   "source": [
    "# Plot the chart:\n",
    "target_mouse_plot.plot(linewidth=3, color='royalblue', figsize=(12, 7))\n",
    "\n",
    "# Set x-label, y-label, and a title:\n",
    "plt.title('Change of Tumor Volume over Period of Study for Mouse ID l509 Treated with Capomulin', fontsize=14)\n",
    "plt.xlabel('Timepoint', fontsize=10, color='black')\n",
    "plt.ylabel('Tumor Volume (mm3)', fontsize=10, color='black')\n",
    "\n",
    "plt.legend('',frameon=False)\n",
    "\n",
    "plt.show()"
   ]
  },
  {
   "cell_type": "code",
   "execution_count": null,
   "metadata": {},
   "outputs": [],
   "source": [
    "# Generate a scatter plot of average tumor volume vs. mouse weight for the Capomulin regimen\n",
    "cap_df = combined_df.loc[combined_df[\"Drug Regimen\"] == \"Capomulin\",:]\n",
    "\n",
    "cap_avg = cap_df.groupby(['Mouse ID']).mean()\n",
    "plt.scatter(cap_avg['Weight (g)'],cap_avg['Tumor Volume (mm3)'])\n",
    "plt.xlabel('Weight (g)')\n",
    "plt.ylabel('Average Tumor Volume (mm3)')\n",
    "\n",
    "plt.show()"
   ]
  },
  {
   "cell_type": "code",
   "execution_count": null,
   "metadata": {},
   "outputs": [],
   "source": []
  },
  {
   "cell_type": "code",
   "execution_count": null,
   "metadata": {},
   "outputs": [],
   "source": []
  },
  {
   "cell_type": "markdown",
   "metadata": {},
   "source": [
    "## Correlation and Regression"
   ]
  },
  {
   "cell_type": "code",
   "execution_count": null,
   "metadata": {},
   "outputs": [],
   "source": [
    "# Calculate the correlation coefficient and linear regression model \n",
    "# for mouse weight and average tumor volume for the Capomulin regimen\n",
    "\n",
    "corr=round(st.pearsonr(cap_avg['Weight (g)'],cap_avg['Tumor Volume (mm3)'])[0],2)\n",
    "print(f\"The correlation between mouse weight and average tumor volume is {corr}\")\n",
    "\n",
    "model=st.linregress(cap_avg['Weight (g)'],cap_avg['Tumor Volume (mm3)'])\n",
    "\n",
    "x_values = cap_avg[\"Weight (g)\"]\n",
    "y_values = cap_avg[\"Tumor Volume (mm3)\"]\n",
    "\n",
    "(slope, intercept, rvalue, pvalue, stderr) = linregress(x_values, y_values)\n",
    "regress_values = x_values * slope + intercept\n",
    "\n",
    "line_eq = \"y =\" + str(round(slope,2)) + \"x + \" + str(round(intercept,2))\n",
    "plt.scatter(x_values, y_values)\n",
    "plt.plot(x_values,regress_values,\"r-\")\n",
    "plt.annotate(line_eq,(6,10),fontsize=10,color=\"red\")\n",
    "plt.xlabel(\"Weight\")\n",
    "plt.ylabel(\"Tumor Volume\")\n",
    "plt.title(\"Weight Vs. Avg Tumor Vol\")\n",
    "plt.show()\n",
    "\n",
    "\n",
    "\n"
   ]
  },
  {
   "cell_type": "code",
   "execution_count": null,
   "metadata": {},
   "outputs": [],
   "source": []
  },
  {
   "cell_type": "code",
   "execution_count": null,
   "metadata": {},
   "outputs": [],
   "source": []
  }
 ],
 "metadata": {
  "anaconda-cloud": {},
  "kernelspec": {
   "display_name": "Python 3",
   "language": "python",
   "name": "python3"
  },
  "language_info": {
   "codemirror_mode": {
    "name": "ipython",
    "version": 3
   },
   "file_extension": ".py",
   "mimetype": "text/x-python",
   "name": "python",
   "nbconvert_exporter": "python",
   "pygments_lexer": "ipython3",
   "version": "3.6.10"
  }
 },
 "nbformat": 4,
 "nbformat_minor": 4
}
